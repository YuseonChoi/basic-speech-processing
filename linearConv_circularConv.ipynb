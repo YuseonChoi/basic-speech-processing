{
 "cells": [
  {
   "cell_type": "code",
   "execution_count": 3,
   "metadata": {},
   "outputs": [
    {
     "name": "stdout",
     "output_type": "stream",
     "text": [
      "Linear convolution: [  7.  22.  53.  88. 124. 105.  69.  18.   0.]\n",
      "Circular convolution: [112.  91.  71.  88. 124.]\n"
     ]
    }
   ],
   "source": [
    "import numpy as np\n",
    "\n",
    "x = np.array([1,2,4,5,6])\n",
    "h = np.array([7,8,9,3,0])\n",
    "\n",
    "# Linear convolution\n",
    "def linear_convolution(x,h):\n",
    "    L = len(x)\n",
    "    P = len(h)\n",
    "    y = np.zeros(L+P-1)\n",
    "    for n in range(L+P-1):\n",
    "        for k in range(L):\n",
    "            if 0 <= n-k < P:\n",
    "                y[n] += x[k] * h[n-k]\n",
    "    return y\n",
    "    \n",
    "# Circular convolution\n",
    "def circular_convolution(x,h):\n",
    "    L = len(x)\n",
    "    y = np.zeros(L)\n",
    "    for n in range(L):\n",
    "        for k in range(L):\n",
    "            y[n] += x[k] * h[(n-k)%L]\n",
    "    return y\n",
    "\n",
    "\n",
    "# Linear convolution Result\n",
    "y_linear = linear_convolution(x,h)\n",
    "print(\"Linear convolution:\", y_linear)\n",
    "\n",
    "# Circular convolution Result\n",
    "y_circular = circular_convolution(x,h)\n",
    "print(\"Circular convolution:\", y_circular)"
   ]
  },
  {
   "cell_type": "code",
   "execution_count": 9,
   "metadata": {},
   "outputs": [
    {
     "name": "stdout",
     "output_type": "stream",
     "text": [
      "y[n] = [112.  91.  71.  88. 124.]\n"
     ]
    }
   ],
   "source": [
    "import torch\n",
    "import torch.fft\n",
    "\n",
    "x = torch.Tensor([1,2,4,5,6])\n",
    "h = torch.Tensor([7,8,9,3,0])\n",
    "\n",
    "X = torch.fft.fft(x)\n",
    "H = torch.fft.fft(h)\n",
    "y = torch.fft.ifft(X*H).real\n",
    "\n",
    "print(\"y[n] =\", y.numpy().round())"
   ]
  }
 ],
 "metadata": {
  "kernelspec": {
   "display_name": "venv",
   "language": "python",
   "name": "python3"
  },
  "language_info": {
   "codemirror_mode": {
    "name": "ipython",
    "version": 3
   },
   "file_extension": ".py",
   "mimetype": "text/x-python",
   "name": "python",
   "nbconvert_exporter": "python",
   "pygments_lexer": "ipython3",
   "version": "3.7.12"
  }
 },
 "nbformat": 4,
 "nbformat_minor": 2
}
